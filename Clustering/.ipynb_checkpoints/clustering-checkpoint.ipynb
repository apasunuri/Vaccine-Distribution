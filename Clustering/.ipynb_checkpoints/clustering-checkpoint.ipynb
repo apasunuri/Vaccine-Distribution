{
 "cells": [
  {
   "cell_type": "code",
   "execution_count": 133,
   "metadata": {},
   "outputs": [],
   "source": [
    "import numpy as np\n",
    "import pandas as pd \n",
    "import sklearn"
   ]
  },
  {
   "cell_type": "code",
   "execution_count": 134,
   "metadata": {
    "pycharm": {
     "name": "#%%\n"
    },
    "scrolled": true
   },
   "outputs": [
    {
     "data": {
      "text/html": [
       "<div>\n",
       "<style scoped>\n",
       "    .dataframe tbody tr th:only-of-type {\n",
       "        vertical-align: middle;\n",
       "    }\n",
       "\n",
       "    .dataframe tbody tr th {\n",
       "        vertical-align: top;\n",
       "    }\n",
       "\n",
       "    .dataframe thead th {\n",
       "        text-align: right;\n",
       "    }\n",
       "</style>\n",
       "<table border=\"1\" class=\"dataframe\">\n",
       "  <thead>\n",
       "    <tr style=\"text-align: right;\">\n",
       "      <th></th>\n",
       "      <th>FIPS</th>\n",
       "      <th>Asian_by_pop</th>\n",
       "      <th>NewCases</th>\n",
       "      <th>Otherpop_by_pop</th>\n",
       "      <th>Population_density</th>\n",
       "      <th>Confirmed</th>\n",
       "      <th>Median_Hou</th>\n",
       "      <th>NewDeaths</th>\n",
       "      <th>Deaths</th>\n",
       "      <th>Countyname</th>\n",
       "      <th>ST_Name</th>\n",
       "      <th>Older_by_pop</th>\n",
       "      <th>Population</th>\n",
       "    </tr>\n",
       "  </thead>\n",
       "  <tbody>\n",
       "    <tr>\n",
       "      <th>0</th>\n",
       "      <td>1001</td>\n",
       "      <td>0.011953</td>\n",
       "      <td>27</td>\n",
       "      <td>0.001773</td>\n",
       "      <td>0.000022</td>\n",
       "      <td>6702</td>\n",
       "      <td>58731</td>\n",
       "      <td>1</td>\n",
       "      <td>103</td>\n",
       "      <td>Autauga</td>\n",
       "      <td>Alabama</td>\n",
       "      <td>0.172793</td>\n",
       "      <td>55869.0</td>\n",
       "    </tr>\n",
       "    <tr>\n",
       "      <th>1</th>\n",
       "      <td>1003</td>\n",
       "      <td>0.011811</td>\n",
       "      <td>15</td>\n",
       "      <td>0.002078</td>\n",
       "      <td>0.000029</td>\n",
       "      <td>20588</td>\n",
       "      <td>58320</td>\n",
       "      <td>-1</td>\n",
       "      <td>300</td>\n",
       "      <td>Baldwin</td>\n",
       "      <td>Alabama</td>\n",
       "      <td>0.256945</td>\n",
       "      <td>223234.0</td>\n",
       "    </tr>\n",
       "    <tr>\n",
       "      <th>2</th>\n",
       "      <td>1005</td>\n",
       "      <td>0.004194</td>\n",
       "      <td>5</td>\n",
       "      <td>0.003709</td>\n",
       "      <td>0.000009</td>\n",
       "      <td>2244</td>\n",
       "      <td>32525</td>\n",
       "      <td>0</td>\n",
       "      <td>55</td>\n",
       "      <td>Barbour</td>\n",
       "      <td>Alabama</td>\n",
       "      <td>0.163264</td>\n",
       "      <td>24686.0</td>\n",
       "    </tr>\n",
       "    <tr>\n",
       "      <th>3</th>\n",
       "      <td>1007</td>\n",
       "      <td>0.001277</td>\n",
       "      <td>3</td>\n",
       "      <td>0.000000</td>\n",
       "      <td>0.000009</td>\n",
       "      <td>2560</td>\n",
       "      <td>47542</td>\n",
       "      <td>0</td>\n",
       "      <td>58</td>\n",
       "      <td>Bibb</td>\n",
       "      <td>Alabama</td>\n",
       "      <td>0.169488</td>\n",
       "      <td>22394.0</td>\n",
       "    </tr>\n",
       "    <tr>\n",
       "      <th>4</th>\n",
       "      <td>1009</td>\n",
       "      <td>0.003916</td>\n",
       "      <td>3</td>\n",
       "      <td>0.003952</td>\n",
       "      <td>0.000022</td>\n",
       "      <td>6472</td>\n",
       "      <td>49358</td>\n",
       "      <td>1</td>\n",
       "      <td>134</td>\n",
       "      <td>Blount</td>\n",
       "      <td>Alabama</td>\n",
       "      <td>0.190717</td>\n",
       "      <td>57826.0</td>\n",
       "    </tr>\n",
       "  </tbody>\n",
       "</table>\n",
       "</div>"
      ],
      "text/plain": [
       "   FIPS  Asian_by_pop  NewCases  Otherpop_by_pop  Population_density  \\\n",
       "0  1001      0.011953        27         0.001773            0.000022   \n",
       "1  1003      0.011811        15         0.002078            0.000029   \n",
       "2  1005      0.004194         5         0.003709            0.000009   \n",
       "3  1007      0.001277         3         0.000000            0.000009   \n",
       "4  1009      0.003916         3         0.003952            0.000022   \n",
       "\n",
       "   Confirmed  Median_Hou  NewDeaths  Deaths Countyname  ST_Name  Older_by_pop  \\\n",
       "0       6702       58731          1     103    Autauga  Alabama      0.172793   \n",
       "1      20588       58320         -1     300    Baldwin  Alabama      0.256945   \n",
       "2       2244       32525          0      55    Barbour  Alabama      0.163264   \n",
       "3       2560       47542          0      58       Bibb  Alabama      0.169488   \n",
       "4       6472       49358          1     134     Blount  Alabama      0.190717   \n",
       "\n",
       "   Population  \n",
       "0     55869.0  \n",
       "1    223234.0  \n",
       "2     24686.0  \n",
       "3     22394.0  \n",
       "4     57826.0  "
      ]
     },
     "execution_count": 134,
     "metadata": {},
     "output_type": "execute_result"
    }
   ],
   "source": [
    "df = pd.read_csv('../clean-data/reduced-columns.csv')\n",
    "df.head()"
   ]
  },
  {
   "cell_type": "code",
   "execution_count": 135,
   "metadata": {
    "scrolled": false
   },
   "outputs": [
    {
     "data": {
      "text/plain": [
       "(3143, 13)"
      ]
     },
     "execution_count": 135,
     "metadata": {},
     "output_type": "execute_result"
    }
   ],
   "source": [
    "df.shape"
   ]
  },
  {
   "cell_type": "code",
   "execution_count": 136,
   "metadata": {},
   "outputs": [],
   "source": [
    "nan_value = float(\"NaN\")\n",
    "df = df.replace(\"\", nan_value)\n",
    "df = df.dropna()"
   ]
  },
  {
   "cell_type": "code",
   "execution_count": 137,
   "metadata": {},
   "outputs": [
    {
     "data": {
      "text/plain": [
       "(3141, 13)"
      ]
     },
     "execution_count": 137,
     "metadata": {},
     "output_type": "execute_result"
    }
   ],
   "source": [
    "df.shape"
   ]
  },
  {
   "cell_type": "code",
   "execution_count": 138,
   "metadata": {
    "pycharm": {
     "name": "#%%\n"
    }
   },
   "outputs": [],
   "source": [
    "from sklearn.cluster import DBSCAN"
   ]
  },
  {
   "cell_type": "code",
   "execution_count": 139,
   "metadata": {},
   "outputs": [],
   "source": [
    "import sklearn.utils\n",
    "from sklearn.preprocessing import StandardScaler"
   ]
  },
  {
   "cell_type": "code",
   "execution_count": 140,
   "metadata": {
    "scrolled": true
   },
   "outputs": [
    {
     "data": {
      "text/html": [
       "<div>\n",
       "<style scoped>\n",
       "    .dataframe tbody tr th:only-of-type {\n",
       "        vertical-align: middle;\n",
       "    }\n",
       "\n",
       "    .dataframe tbody tr th {\n",
       "        vertical-align: top;\n",
       "    }\n",
       "\n",
       "    .dataframe thead th {\n",
       "        text-align: right;\n",
       "    }\n",
       "</style>\n",
       "<table border=\"1\" class=\"dataframe\">\n",
       "  <thead>\n",
       "    <tr style=\"text-align: right;\">\n",
       "      <th></th>\n",
       "      <th>Asian_by_pop</th>\n",
       "      <th>NewCases</th>\n",
       "      <th>Otherpop_by_pop</th>\n",
       "      <th>Population_density</th>\n",
       "      <th>Confirmed</th>\n",
       "      <th>Median_Hou</th>\n",
       "      <th>NewDeaths</th>\n",
       "      <th>Deaths</th>\n",
       "      <th>Older_by_pop</th>\n",
       "      <th>Population</th>\n",
       "    </tr>\n",
       "  </thead>\n",
       "  <tbody>\n",
       "    <tr>\n",
       "      <th>0</th>\n",
       "      <td>0.011953</td>\n",
       "      <td>27</td>\n",
       "      <td>0.001773</td>\n",
       "      <td>0.000022</td>\n",
       "      <td>6702</td>\n",
       "      <td>58731</td>\n",
       "      <td>1</td>\n",
       "      <td>103</td>\n",
       "      <td>0.172793</td>\n",
       "      <td>55869.0</td>\n",
       "    </tr>\n",
       "    <tr>\n",
       "      <th>1</th>\n",
       "      <td>0.011811</td>\n",
       "      <td>15</td>\n",
       "      <td>0.002078</td>\n",
       "      <td>0.000029</td>\n",
       "      <td>20588</td>\n",
       "      <td>58320</td>\n",
       "      <td>-1</td>\n",
       "      <td>300</td>\n",
       "      <td>0.256945</td>\n",
       "      <td>223234.0</td>\n",
       "    </tr>\n",
       "    <tr>\n",
       "      <th>2</th>\n",
       "      <td>0.004194</td>\n",
       "      <td>5</td>\n",
       "      <td>0.003709</td>\n",
       "      <td>0.000009</td>\n",
       "      <td>2244</td>\n",
       "      <td>32525</td>\n",
       "      <td>0</td>\n",
       "      <td>55</td>\n",
       "      <td>0.163264</td>\n",
       "      <td>24686.0</td>\n",
       "    </tr>\n",
       "    <tr>\n",
       "      <th>3</th>\n",
       "      <td>0.001277</td>\n",
       "      <td>3</td>\n",
       "      <td>0.000000</td>\n",
       "      <td>0.000009</td>\n",
       "      <td>2560</td>\n",
       "      <td>47542</td>\n",
       "      <td>0</td>\n",
       "      <td>58</td>\n",
       "      <td>0.169488</td>\n",
       "      <td>22394.0</td>\n",
       "    </tr>\n",
       "    <tr>\n",
       "      <th>4</th>\n",
       "      <td>0.003916</td>\n",
       "      <td>3</td>\n",
       "      <td>0.003952</td>\n",
       "      <td>0.000022</td>\n",
       "      <td>6472</td>\n",
       "      <td>49358</td>\n",
       "      <td>1</td>\n",
       "      <td>134</td>\n",
       "      <td>0.190717</td>\n",
       "      <td>57826.0</td>\n",
       "    </tr>\n",
       "  </tbody>\n",
       "</table>\n",
       "</div>"
      ],
      "text/plain": [
       "   Asian_by_pop  NewCases  Otherpop_by_pop  Population_density  Confirmed  \\\n",
       "0      0.011953        27         0.001773            0.000022       6702   \n",
       "1      0.011811        15         0.002078            0.000029      20588   \n",
       "2      0.004194         5         0.003709            0.000009       2244   \n",
       "3      0.001277         3         0.000000            0.000009       2560   \n",
       "4      0.003916         3         0.003952            0.000022       6472   \n",
       "\n",
       "   Median_Hou  NewDeaths  Deaths  Older_by_pop  Population  \n",
       "0       58731          1     103      0.172793     55869.0  \n",
       "1       58320         -1     300      0.256945    223234.0  \n",
       "2       32525          0      55      0.163264     24686.0  \n",
       "3       47542          0      58      0.169488     22394.0  \n",
       "4       49358          1     134      0.190717     57826.0  "
      ]
     },
     "execution_count": 140,
     "metadata": {},
     "output_type": "execute_result"
    }
   ],
   "source": [
    "dfCluster = df[['Asian_by_pop','NewCases','Otherpop_by_pop','Population_density','Confirmed','Median_Hou','NewDeaths',\n",
    " 'Deaths','Older_by_pop','Population']]\n",
    "\n",
    "dfCluster.head()"
   ]
  },
  {
   "cell_type": "code",
   "execution_count": 141,
   "metadata": {
    "scrolled": true
   },
   "outputs": [
    {
     "data": {
      "text/plain": [
       "array([[-0.11899648,  0.02640322,  0.17537767, ..., -0.10670772,\n",
       "         0.16512874, -0.14586713],\n",
       "       [-0.12227892, -0.10387434,  0.29051179, ...,  0.18178539,\n",
       "         1.08044099,  0.35605196],\n",
       "       [-0.29759559, -0.21243897,  0.90604757, ..., -0.17700046,\n",
       "         0.0614824 , -0.23938336],\n",
       "       ...,\n",
       "       [-0.35626028, -0.26672129, -0.49392822, ..., -0.23997103,\n",
       "        -0.22368606, -0.25275867],\n",
       "       [-0.39413791, -0.25586482,  0.26300432, ..., -0.21946899,\n",
       "         0.74752366, -0.29000862],\n",
       "       [-0.20770334, -0.26672129, -0.49392822, ..., -0.25022206,\n",
       "         0.52077023, -0.29264169]])"
      ]
     },
     "execution_count": 141,
     "metadata": {},
     "output_type": "execute_result"
    }
   ],
   "source": [
    "dfClusterScaled = StandardScaler().fit_transform(dfCluster)\n",
    "dfClusterScaled"
   ]
  },
  {
   "cell_type": "code",
   "execution_count": 218,
   "metadata": {},
   "outputs": [],
   "source": [
    "# Density-based spatial clustering of applications with noise (DBSCAN) \n",
    "#  min_samples = 2*dimensions (# of features)\n",
    "# \n",
    "db = DBSCAN(eps=0.5, min_samples=15).fit(dfClusterScaled)"
   ]
  },
  {
   "cell_type": "code",
   "execution_count": 219,
   "metadata": {},
   "outputs": [],
   "source": [
    "labels = db.labels_"
   ]
  },
  {
   "cell_type": "code",
   "execution_count": 220,
   "metadata": {
    "scrolled": true
   },
   "outputs": [
    {
     "data": {
      "text/plain": [
       "{-1, 0, 1, 2}"
      ]
     },
     "execution_count": 220,
     "metadata": {},
     "output_type": "execute_result"
    }
   ],
   "source": [
    "set(labels)"
   ]
  },
  {
   "cell_type": "code",
   "execution_count": 221,
   "metadata": {},
   "outputs": [],
   "source": [
    "df[\"DBCluster_#\"] = labels"
   ]
  },
  {
   "cell_type": "code",
   "execution_count": null,
   "metadata": {},
   "outputs": [],
   "source": []
  },
  {
   "cell_type": "code",
   "execution_count": 222,
   "metadata": {},
   "outputs": [],
   "source": []
  },
  {
   "cell_type": "code",
   "execution_count": 223,
   "metadata": {},
   "outputs": [
    {
     "data": {
      "text/plain": [
       "[<matplotlib.lines.Line2D at 0x27a2b1b3f10>]"
      ]
     },
     "execution_count": 223,
     "metadata": {},
     "output_type": "execute_result"
    },
    {
     "data": {
      "image/png": "[encoded data removed]",
      "text/plain": [
       "<Figure size 432x288 with 1 Axes>"
      ]
     },
     "metadata": {},
     "output_type": "display_data"
    }
   ],
   "source": [
    "# from sklearn.neighbors import NearestNeighbors\n",
    "# from matplotlib import pyplot as plt\n",
    "# import seaborn as sns\n",
    "# sns.set()\n",
    "\n",
    "# neigh = NearestNeighbors(n_neighbors=2)\n",
    "# nbrs = neigh.fit(dfClusterScaled)\n",
    "# distances, indices = nbrs.kneighbors(dfClusterScaled)\n",
    "# distances = np.sort(distances, axis=0)\n",
    "# distances = distances[:,1]\n",
    "# plt.plot(distances)"
   ]
  },
  {
   "cell_type": "code",
   "execution_count": 251,
   "metadata": {},
   "outputs": [],
   "source": [
    "from sklearn.cluster import MeanShift, estimate_bandwidth\n",
    "bandwidth = estimate_bandwidth(dfClusterScaled, quantile=0.95,n_jobs=-1)\n"
   ]
  },
  {
   "cell_type": "code",
   "execution_count": 252,
   "metadata": {},
   "outputs": [
    {
     "name": "stdout",
     "output_type": "stream",
     "text": [
      "number of estimated clusters : 20\n"
     ]
    }
   ],
   "source": [
    "ms = MeanShift(bandwidth=bandwidth, bin_seeding=True)\n",
    "ms.fit(dfClusterScaled)\n",
    "mslabels = ms.labels_\n",
    "cluster_centers = ms.cluster_centers_\n",
    "\n",
    "labels_unique = np.unique(mslabels)\n",
    "n_clusters_ = len(labels_unique)\n",
    "\n",
    "print(\"number of estimated clusters : %d\" % n_clusters_)\n",
    "\n"
   ]
  },
  {
   "cell_type": "code",
   "execution_count": 253,
   "metadata": {},
   "outputs": [
    {
     "data": {
      "text/plain": [
       "(3141,)"
      ]
     },
     "execution_count": 253,
     "metadata": {},
     "output_type": "execute_result"
    }
   ],
   "source": [
    "# set(mslabels)\n",
    "mslabels.shape\n",
    "df[\"MeanShiftCluster_#\"] = mslabels"
   ]
  },
  {
   "cell_type": "code",
   "execution_count": 254,
   "metadata": {},
   "outputs": [
    {
     "data": {
      "image/png": "[encoded data removed]",
      "text/plain": [
       "<Figure size 432x288 with 1 Axes>"
      ]
     },
     "metadata": {},
     "output_type": "display_data"
    }
   ],
   "source": [
    "# #############################################################################\n",
    "# Plot result\n",
    "import matplotlib.pyplot as plt\n",
    "from itertools import cycle\n",
    "\n",
    "plt.figure(1)\n",
    "plt.clf()\n",
    "\n",
    "colors = cycle('bgrcmykbgrcmykbgrcmykbgrcmyk')\n",
    "for k, col in zip(range(n_clusters_), colors):\n",
    "    my_members = labels == k\n",
    "    cluster_center = cluster_centers[k]\n",
    "    plt.plot(dfClusterScaled[my_members, 0], dfClusterScaled[my_members, 1], col + '.')\n",
    "    plt.plot(cluster_center[0], cluster_center[1], 'o', markerfacecolor=col,\n",
    "             markeredgecolor='k', markersize=14)\n",
    "plt.title('Estimated number of clusters: %d' % n_clusters_)\n",
    "plt.show()"
   ]
  },
  {
   "cell_type": "code",
   "execution_count": 268,
   "metadata": {},
   "outputs": [
    {
     "name": "stderr",
     "output_type": "stream",
     "text": [
      "C:\\Users\\asyed\\anaconda3\\lib\\site-packages\\sklearn\\manifold\\_spectral_embedding.py:236: UserWarning: Graph is not fully connected, spectral embedding may not work as expected.\n",
      "  warnings.warn(\"Graph is not fully connected, spectral embedding\"\n"
     ]
    },
    {
     "data": {
      "text/plain": [
       "{0, 1, 2, 3, 4, 5, 6, 7}"
      ]
     },
     "execution_count": 268,
     "metadata": {},
     "output_type": "execute_result"
    }
   ],
   "source": [
    "# Not working well with scaled data\n",
    "from sklearn.cluster import SpectralClustering\n",
    "clustering = SpectralClustering().fit(dfCluster)\n",
    "spectralLabels = clustering.labels_\n",
    "set(clustering.labels_)"
   ]
  },
  {
   "cell_type": "code",
   "execution_count": 270,
   "metadata": {},
   "outputs": [
    {
     "data": {
      "text/plain": [
       "3141"
      ]
     },
     "execution_count": 270,
     "metadata": {},
     "output_type": "execute_result"
    }
   ],
   "source": [
    "len(spectralLabels)\n",
    "df[\"SpectralCluster_#\"] = spectralLabels"
   ]
  },
  {
   "cell_type": "code",
   "execution_count": null,
   "metadata": {},
   "outputs": [],
   "source": [
    "# calculate distortion for a range of number of cluster\n",
    "distortions = []\n",
    "for i in range(1, 11):\n",
    "    km = KMeans(\n",
    "        n_clusters=i, init='random',\n",
    "        n_init=10, max_iter=300,\n",
    "        tol=1e-04, random_state=0\n",
    "    )\n",
    "    km.fit(dfClusterScaled)\n",
    "    distortions.append(km.inertia_)\n",
    "\n",
    "# plot\n",
    "plt.plot(range(1, 11), distortions, marker='o')\n",
    "plt.xlabel('Number of clusters')\n",
    "plt.ylabel('Distortion')\n",
    "plt.show()"
   ]
  },
  {
   "cell_type": "code",
   "execution_count": 279,
   "metadata": {},
   "outputs": [],
   "source": [
    "from sklearn.cluster import KMeans\n",
    "\n",
    "kmeans = KMeans(n_clusters=9).fit(dfClusterScaled)\n",
    "kmeansLabels = kmeans.labels_\n",
    "\n",
    "# kmeans.cluster_centers_\n",
    "set(kmeansLabels)\n",
    "df[\"KMeans_#\"] = kmeansLabels"
   ]
  },
  {
   "cell_type": "code",
   "execution_count": 280,
   "metadata": {},
   "outputs": [
    {
     "data": {
      "text/plain": [
       "3141"
      ]
     },
     "execution_count": 280,
     "metadata": {},
     "output_type": "execute_result"
    }
   ],
   "source": [
    "len(kmeansLabels)"
   ]
  },
  {
   "cell_type": "code",
   "execution_count": 276,
   "metadata": {},
   "outputs": [
    {
     "data": {
      "image/png": "[encoded data removed]",
      "text/plain": [
       "<Figure size 432x288 with 1 Axes>"
      ]
     },
     "metadata": {},
     "output_type": "display_data"
    }
   ],
   "source": []
  },
  {
   "cell_type": "code",
   "execution_count": null,
   "metadata": {},
   "outputs": [],
   "source": [
    "df.to_csv('ClusteredData.csv')\n",
    "df.to_csv('../clean-data/ClusteredData.csv')"
   ]
  },
  {
   "cell_type": "code",
   "execution_count": null,
   "metadata": {},
   "outputs": [],
   "source": []
  }
 ],
 "metadata": {
  "kernelspec": {
   "display_name": "Python 3",
   "language": "python",
   "name": "python3"
  },
  "language_info": {
   "codemirror_mode": {
    "name": "ipython",
    "version": 3
   },
   "file_extension": ".py",
   "mimetype": "text/x-python",
   "name": "python",
   "nbconvert_exporter": "python",
   "pygments_lexer": "ipython3",
   "version": "3.8.5"
  }
 },
 "nbformat": 4,
 "nbformat_minor": 1
}
